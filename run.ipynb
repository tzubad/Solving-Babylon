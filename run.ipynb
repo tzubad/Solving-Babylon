{
 "cells": [
  {
   "cell_type": "markdown",
   "metadata": {},
   "source": [
    "Step 1: Initial State\n",
    "The initial state can be represented as a list of stacks:\n",
    "\n"
   ]
  },
  {
   "cell_type": "code",
   "execution_count": 5,
   "metadata": {},
   "outputs": [
    {
     "data": {
      "text/plain": [
       "True"
      ]
     },
     "execution_count": 5,
     "metadata": {},
     "output_type": "execute_result"
    }
   ],
   "source": [
    "\n",
    "from collections import Counter\n",
    "def compare(s, t):\n",
    "    return Counter(s) == Counter(t)\n",
    "\n",
    "compare([1,2,3],[3,2,1])"
   ]
  },
  {
   "cell_type": "code",
   "execution_count": 1,
   "metadata": {},
   "outputs": [],
   "source": [
    "initial_state = [\n",
    "    ('red', 1), ('red', 1), ('red', 1),\n",
    "    ('blue', 1), ('blue', 1), ('blue', 1),\n",
    "    ('green', 1), ('green', 1), ('green', 1),\n",
    "    ('yellow', 1), ('yellow', 1), ('yellow', 1)\n",
    "]\n",
    "\n",
    "def create_state(n_of_colors=4,n_of_chips_per_color=3):\n",
    "    state = []\n",
    "    color_list = ['red','blue','green','yellow','brown','grey','magenta','cyan','orange','pink']\n",
    "    for color in range(n_of_colors):\n",
    "        for chip in range(n_of_chips_per_color):\n",
    "            state.append((color_list[color],1))\n",
    "    return state\n"
   ]
  },
  {
   "cell_type": "code",
   "execution_count": 8,
   "metadata": {},
   "outputs": [],
   "source": [
    "from functions import *\n",
    "from memoization_efforts import *"
   ]
  },
  {
   "cell_type": "code",
   "execution_count": 9,
   "metadata": {},
   "outputs": [
    {
     "data": {
      "text/plain": [
       "[[('blue', 2), ('blue', 2)],\n",
       " [('red', 1), ('blue', 3)],\n",
       " [('blue', 2), ('red', 2)]]"
      ]
     },
     "execution_count": 9,
     "metadata": {},
     "output_type": "execute_result"
    }
   ],
   "source": [
    "n_colors = 2\n",
    "n_chips_per_color = 2\n",
    "simple_2by2 = create_state(n_colors,n_chips_per_color)\n",
    "root = GameNode(simple_2by2, 'Alice')\n",
    "root.generate_children()\n",
    "minimax(root, float('-inf'), float('inf'))\n",
    "x=root.children[0].children\n",
    "x"
   ]
  },
  {
   "cell_type": "code",
   "execution_count": 14,
   "metadata": {},
   "outputs": [
    {
     "name": "stdout",
     "output_type": "stream",
     "text": [
      "Game state of: [('red', 1), ('blue', 3)]\n",
      "Game state of: [('blue', 2), ('red', 2)]\n"
     ]
    },
    {
     "data": {
      "text/plain": [
       "[(0, 1, 0, 0), (0, 1, 0, 0)]"
      ]
     },
     "execution_count": 14,
     "metadata": {},
     "output_type": "execute_result"
    }
   ],
   "source": [
    "print(x[1])\n",
    "print(x[2])\n",
    "move2 = map_game_state_to_matrix(x[2],n_colors,n_chips_per_color)\n",
    "move1 = map_game_state_to_matrix(x[1],n_colors,n_chips_per_color)\n",
    "\n",
    "compare(move1,move2)\n",
    "move2"
   ]
  },
  {
   "cell_type": "markdown",
   "metadata": {},
   "source": [
    "test for finding a matrix in dict"
   ]
  },
  {
   "cell_type": "code",
   "execution_count": null,
   "metadata": {},
   "outputs": [],
   "source": []
  },
  {
   "cell_type": "markdown",
   "metadata": {},
   "source": [
    "Step 2: Legal Moves\n",
    "Define a function to generate all legal moves from a given state:"
   ]
  },
  {
   "cell_type": "code",
   "execution_count": 9,
   "metadata": {},
   "outputs": [],
   "source": [
    "Cache = {}\n",
    "\n",
    "def memoize(f):\n",
    "    global Cache\n",
    "    \n",
    "    def f_memoized(*args):\n",
    "        if args in Cache:\n",
    "            return Cache[args]\n",
    "        result = f(*args)\n",
    "        Cache[args] = result\n",
    "        return result\n",
    "    \n",
    "    return f_memoized"
   ]
  },
  {
   "cell_type": "code",
   "execution_count": 10,
   "metadata": {},
   "outputs": [],
   "source": [
    "\n",
    "def generate_legal_moves(state):\n",
    "    moves = []\n",
    "    tower_height=1\n",
    "    tower_color=0\n",
    "    temp_state = state[:]\n",
    "    for i in range(len(state)): # the low stack\n",
    "        for j in range(len(state)): # the top stack\n",
    "            if i==j:\n",
    "                continue\n",
    "                \n",
    "            if (temp_state[i][tower_height] == temp_state[j][tower_height] or temp_state[i][tower_color]==temp_state[j][tower_color]):\n",
    "                new_state = temp_state[:]\n",
    "                new_state.append((new_state[j][tower_color], new_state[j][tower_height] + new_state[i][tower_height]))\n",
    "                if i>j:\n",
    "                    new_state.remove(new_state[i])\n",
    "                    new_state.remove(new_state[j])\n",
    "                else:\n",
    "                    new_state.remove(new_state[j])\n",
    "                    new_state.remove(new_state[i])\n",
    "                \n",
    "                moves.append(new_state)\n",
    "                \n",
    "    moves = list(set(tuple(i) for i in moves))\n",
    "    moves = [list(tup) for tup in moves]\n",
    "    return moves\n"
   ]
  },
  {
   "cell_type": "code",
   "execution_count": 20,
   "metadata": {},
   "outputs": [
    {
     "name": "stdout",
     "output_type": "stream",
     "text": [
      "[('red', 1), ('red', 1), ('blue', 1), ('blue', 1)]\n",
      "[('red', 1), ('red', 1), ('blue', 1), ('blue', 1), ('red', 2)]\n",
      "[('red', 1), ('blue', 1), ('blue', 1), ('red', 2)]\n",
      "[('red', 1), ('blue', 1), ('red', 2)]\n"
     ]
    }
   ],
   "source": [
    "a=1\n",
    "b=0\n",
    "\n",
    "\n",
    "test = simple_2by2\n",
    "print(test)\n",
    "test.append((simple_2by2[b][0], simple_2by2[b][1] + simple_2by2[a][1]))\n",
    "print(test)\n",
    "test.remove(simple_2by2[b])\n",
    "print(test)\n",
    "test.remove(simple_2by2[a])\n",
    "print(test)\n"
   ]
  },
  {
   "cell_type": "code",
   "execution_count": 12,
   "metadata": {},
   "outputs": [
    {
     "data": {
      "text/plain": [
       "True"
      ]
     },
     "execution_count": 12,
     "metadata": {},
     "output_type": "execute_result"
    }
   ],
   "source": [
    "simple_2by2 = create_state(2,2)\n",
    "y = generate_legal_moves([('blue', 1), ('red', 3)])\n",
    "len(y)\n",
    "y == []"
   ]
  },
  {
   "cell_type": "markdown",
   "metadata": {},
   "source": [
    "Step 3: Construct the Game Tree\n",
    "Use a recursive function to construct the game tree:"
   ]
  },
  {
   "cell_type": "code",
   "execution_count": 29,
   "metadata": {},
   "outputs": [],
   "source": [
    "class GameNode:\n",
    "    def __init__(self, state, player, parent=None):\n",
    "        self.state = state\n",
    "        self.player = player\n",
    "        self.parent = parent\n",
    "        self.children = []\n",
    "        self.is_terminal = False\n",
    "\n",
    "\n",
    "\n",
    "    def __repr__(self):\n",
    "        return self.state\n",
    "    def __str__(self):\n",
    "        return \"Game state of: \" + str(self.state)\n",
    "\n",
    "    # @memoize\n",
    "    def generate_children(self):\n",
    "        legal_moves = generate_legal_moves(self.state)\n",
    "        if legal_moves==[]:\n",
    "            self.is_terminal = True\n",
    "        for move in legal_moves:\n",
    "            child_node = GameNode(move, 'Bob' if self.player == 'Alice' else 'Alice', self)\n",
    "            self.children.append(child_node)\n",
    "            child_node.generate_children()\n",
    "\n"
   ]
  },
  {
   "cell_type": "code",
   "execution_count": 14,
   "metadata": {},
   "outputs": [
    {
     "data": {
      "text/plain": [
       "<__main__.GameNode at 0x1ee1da6cf40>"
      ]
     },
     "execution_count": 14,
     "metadata": {},
     "output_type": "execute_result"
    }
   ],
   "source": [
    "# Initialize the root of the game tree\n"
   ]
  },
  {
   "cell_type": "markdown",
   "metadata": {},
   "source": [
    "for colors=<3 and chips =<3 i can complie pretty fast\n"
   ]
  },
  {
   "cell_type": "code",
   "execution_count": 22,
   "metadata": {},
   "outputs": [],
   "source": [
    "# root = GameNode(create_state(), 'Alice')\n",
    "# root.generate_children()"
   ]
  },
  {
   "cell_type": "markdown",
   "metadata": {},
   "source": [
    "Step 4: Determine the Winning Condition\n",
    "Traverse the game tree to determine the winner at each terminal state:"
   ]
  },
  {
   "cell_type": "code",
   "execution_count": 15,
   "metadata": {},
   "outputs": [],
   "source": [
    "def getUtility(node):\n",
    "        assert node is not None\n",
    "        if node.player=='Alice':\n",
    "            return -1\n",
    "        else:\n",
    "            return 1\n",
    "        "
   ]
  },
  {
   "cell_type": "code",
   "execution_count": 16,
   "metadata": {},
   "outputs": [
    {
     "data": {
      "text/plain": [
       "1"
      ]
     },
     "execution_count": 16,
     "metadata": {},
     "output_type": "execute_result"
    }
   ],
   "source": [
    "def minimax(position, alpha, beta):\n",
    "\tif position.is_terminal==True:\n",
    "\t\treturn getUtility(position)\n",
    " \n",
    "\tif position.player=='Alice':\n",
    "\t\tmaxEval = float('-inf')\n",
    "\t\tfor child in position.children:\n",
    "\t\t\teval = minimax(child, alpha, beta)\n",
    "\t\t\tmaxEval = max(maxEval, eval)\n",
    "\t\t\talpha = max(alpha, eval)\n",
    "\t\t\tif beta <= alpha:\n",
    "\t\t\t\tbreak\n",
    "\t\treturn maxEval\n",
    " \n",
    "\telse:\n",
    "\t\tminEval = float('inf')\n",
    "\t\tfor child in position.children:\n",
    "\t\t\teval = minimax(child, alpha, beta)\n",
    "\t\t\tminEval = min(minEval, eval)\n",
    "\t\t\tbeta = min(beta, eval)\n",
    "\t\t\tif beta <= alpha:\n",
    "\t\t\t\tbreak\n",
    "\t\treturn minEval\n",
    " \n",
    " \n"
   ]
  },
  {
   "cell_type": "markdown",
   "metadata": {},
   "source": []
  },
  {
   "cell_type": "code",
   "execution_count": 11,
   "metadata": {},
   "outputs": [],
   "source": [
    "##########################\n",
    "###### MINI-MAX A-B ######\n",
    "##########################\n",
    "\n",
    "class AlphaBeta:\n",
    "    # print utility value of root node (assuming it is max)\n",
    "    # print names of all nodes visited during search\n",
    "    def __init__(self, game_tree):\n",
    "        self.game_tree = game_tree  # GameTree\n",
    "        self.root = game_tree.root  # GameNode\n",
    "        return\n",
    "\n",
    "    def alpha_beta_search(self, node):\n",
    "        infinity = float('inf')\n",
    "        best_val = -infinity\n",
    "        beta = infinity\n",
    "\n",
    "        successors = self.getSuccessors(node)\n",
    "        best_state = None\n",
    "        for state in successors:\n",
    "            value = self.min_value(state, best_val, beta)\n",
    "            if value > best_val:\n",
    "                best_val = value\n",
    "                best_state = state\n",
    "        print(\"AlphaBeta:  Utility Value of Root Node: = \" + str(best_val))\n",
    "        print(\"AlphaBeta:  Best State is: \" + best_state.Name)\n",
    "        return best_state\n",
    "\n",
    "    def max_value(self, node, alpha, beta):\n",
    "        print(\"AlphaBeta->MAX: Visited Node :: \" + node.Name)\n",
    "        if self.isTerminal(node):\n",
    "            return self.getUtility(node)\n",
    "        infinity = float('inf')\n",
    "        value = -infinity\n",
    "\n",
    "        successors = self.getSuccessors(node)\n",
    "        for state in successors:\n",
    "            value = max(value, self.min_value(state, alpha, beta))\n",
    "            if value >= beta:\n",
    "                return value\n",
    "            alpha = max(alpha, value)\n",
    "        return value\n",
    "\n",
    "    def min_value(self, node, alpha, beta):\n",
    "        print(\"AlphaBeta->MIN: Visited Node :: \" + node.Name)\n",
    "        if self.isTerminal(node):\n",
    "            return self.getUtility(node)\n",
    "        infinity = float('inf')\n",
    "        value = infinity\n",
    "\n",
    "        successors = self.getSuccessors(node)\n",
    "        for state in successors:\n",
    "            value = min(value, self.max_value(state, alpha, beta))\n",
    "            if value <= alpha:\n",
    "                return value\n",
    "            beta = min(beta, value)\n",
    "\n",
    "        return value\n",
    "    #                     #\n",
    "    #   UTILITY METHODS   #\n",
    "    #                     #\n",
    "\n",
    "    # successor states in a game tree are the child nodes…\n",
    "    def getSuccessors(self, node):\n",
    "        assert node is not None\n",
    "        return node.children\n",
    "\n",
    "    # return true if the node has NO children (successor states)\n",
    "    # return false if the node has children (successor states)\n",
    "    def isTerminal(self, node):\n",
    "        assert node.is_terminal==True\n",
    "        \n",
    "        return node.children == []\n",
    "\n",
    "    def getUtility(self, node):\n",
    "        assert node is not None\n",
    "        if node.player=='Alice':\n",
    "            return -1\n",
    "        else:\n",
    "            return 1\n",
    "        "
   ]
  },
  {
   "cell_type": "code",
   "execution_count": null,
   "metadata": {},
   "outputs": [],
   "source": []
  }
 ],
 "metadata": {
  "kernelspec": {
   "display_name": "Python 3",
   "language": "python",
   "name": "python3"
  },
  "language_info": {
   "codemirror_mode": {
    "name": "ipython",
    "version": 3
   },
   "file_extension": ".py",
   "mimetype": "text/x-python",
   "name": "python",
   "nbconvert_exporter": "python",
   "pygments_lexer": "ipython3",
   "version": "3.10.0"
  }
 },
 "nbformat": 4,
 "nbformat_minor": 2
}
